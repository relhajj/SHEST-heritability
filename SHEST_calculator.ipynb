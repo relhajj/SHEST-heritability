{
 "cells": [
  {
   "cell_type": "markdown",
   "metadata": {
    "id": "y831PodWLTwS"
   },
   "source": [
    "# Calculating the ***S***ecular ***H***eritability ***EST***imate (SHEST)  \n",
    "\n"
   ]
  },
  {
   "cell_type": "markdown",
   "metadata": {
    "id": "Bj9DLcNpLaTo"
   },
   "source": [
    "### Import Statements"
   ]
  },
  {
   "cell_type": "code",
   "execution_count": 1,
   "metadata": {
    "id": "8udXdrOOxNME"
   },
   "outputs": [],
   "source": [
    "import gspread\n",
    "import os\n",
    "import pylab\n",
    "import math\n",
    "\n",
    "import seaborn as sns\n",
    "import numpy as np\n",
    "import pandas as pd\n",
    "import matplotlib.pyplot as plt\n",
    "\n",
    "from matplotlib.ticker import MaxNLocator\n",
    "from google.colab import files\n",
    "from scipy.optimize import curve_fit\n",
    "from numpy.linalg import lstsq\n",
    "from google.colab import drive\n",
    "\n",
    "plt.style.use(\"seaborn\")"
   ]
  },
  {
   "cell_type": "markdown",
   "metadata": {
    "id": "OOrAGqjTLRET"
   },
   "source": [
    "### Access Data\n",
    "\n",
    "For information on how the csv files should be formatted, see the README.md file in https://github.com/relhajj/SHEST-heritability."
   ]
  },
  {
   "cell_type": "code",
   "execution_count": null,
   "metadata": {
    "id": "B-iw2Sf7xVnh"
   },
   "outputs": [],
   "source": [
    "# mount google drive\n",
    "drive.mount('/gdrive')"
   ]
  },
  {
   "cell_type": "code",
   "execution_count": null,
   "metadata": {
    "id": "6Ip_4FufvaDe"
   },
   "outputs": [],
   "source": [
    "# change directory to where the csvs are kept\n",
    "%cd /gdrive/Shared drives/BIOIN 401 Heritability/notebooks/csvs"
   ]
  },
  {
   "cell_type": "markdown",
   "metadata": {
    "id": "Sc33fspuLzeC"
   },
   "source": [
    "### Function Definitions "
   ]
  },
  {
   "cell_type": "code",
   "execution_count": 5,
   "metadata": {
    "id": "8aPzQs3vzfQd"
   },
   "outputs": [],
   "source": [
    "def fit_line(phenotype, header, ylabel, adj):\n",
    "    # guide: fit_line(column name as found in dataframe, \n",
    "    #                 graph title (phenotype name), \n",
    "    #                 data description (e.g., Incidence / 100000),\n",
    "    #                 y axis maximum adjustment to make graph look better)\n",
    "\n",
    "    # get data\n",
    "    \n",
    "    xdata = [float(i) for i in df[phenotype].dropna().index[0:-1]]\n",
    "    ydata = [float(i) for i in df[phenotype].dropna()[0:-1]]\n",
    "\n",
    "    eqn_slope = np.polyfit(xdata, ydata, 1)\n",
    "\n",
    "    print(\"Min year:\", int(min(xdata)))\n",
    "    print(\"Max year:\", int(max(xdata)), \"\\n\")\n",
    "\n",
    "    print(\"Min Inc/Prev: %.3f\" % min(ydata))\n",
    "    print(\"Max Inc/Prev: %.3f\" % max(ydata), \"\\n\")\n",
    "\n",
    "    print(\"Equation: %.3fx + %.3f\"%(eqn_slope[0], eqn_slope[1]), \"\\n\")\n",
    "\n",
    "    print(\"H_min: %.3f\" % min(eqn_slope[0]*min(xdata)+eqn_slope[1],eqn_slope[0]*max(xdata)+eqn_slope[1]))\n",
    "    print(\"H_max: %.3f\" % max(eqn_slope[0]*min(xdata)+eqn_slope[1],eqn_slope[0]*max(xdata)+eqn_slope[1]))\n",
    "\n",
    "    print(\"H^2: %.3f\" % (min(eqn_slope[0]*min(xdata)+eqn_slope[1],eqn_slope[0]*max(xdata)+eqn_slope[1])/max(eqn_slope[0]*min(xdata)+eqn_slope[1],eqn_slope[0]*max(xdata)+eqn_slope[1])))\n",
    "    print()\n",
    "\n",
    "    ax = plt.figure(figsize=(8,5)).gca()\n",
    "    ax.xaxis.set_major_locator(MaxNLocator(integer=True))\n",
    "\n",
    "    plt.scatter(xdata, ydata, label='data')\n",
    "    plt.title(header, fontdict = {'fontsize' : 20})\n",
    "    plt.xlabel(\"Year\", fontdict = {'fontsize' : 20})\n",
    "    plt.ylabel(header+\" \"+ylabel)\n",
    "    plt.ylabel(ylabel, fontdict = {'fontsize' : 20})\n",
    "    plt.ylim(ymin=0, ymax=(max(ydata)+min(ydata)+adj))\n",
    "    plt.plot(xdata, [x*eqn_slope[0]+eqn_slope[1] for x in xdata], color=\"green\")\n",
    "    plt.show()\n",
    "\n",
    "    return eqn_slope\n",
    "\n",
    "def fit_test(phenotype):\n",
    "    # guide: fit_line(column name as found in dataframe, \n",
    "    #                 graph title (phenotype name), \n",
    "    #                 data description (e.g., Incidence / 100000),\n",
    "    #                 y axis maximum adjustment to make graph look better)\n",
    "\n",
    "    # get data\n",
    "    \n",
    "    xdata = [float(i) for i in df[phenotype].dropna().index[0:-1]]\n",
    "    ydata = [float(i) for i in df[phenotype].dropna()[0:-1]]\n",
    "\n",
    "    eqn_slope = np.polyfit(xdata, ydata, 1)\n",
    "\n",
    "    ax = plt.figure(figsize=(8,5)).gca()\n",
    "    ax.xaxis.set_major_locator(MaxNLocator(integer=True))\n",
    "\n",
    "    plt.scatter(xdata, ydata)\n",
    "    plt.ylim(ymin=0, ymax=(max(ydata)+min(ydata)))\n",
    "    plt.show()\n",
    "\n",
    "    return eqn_slope\n",
    "\n",
    "def sigmoid(x, L ,x0, k, b): \n",
    "    # sigmoid equation\n",
    "    \n",
    "    y = L / (1 + np.exp(-k*(x-x0)))+b\n",
    "    return (y)\n",
    "\n",
    "def fit_sigmoid(phenotype, header, ylabel, adj):\n",
    "    # guide: fit_sigmoid(column name as found in dataframe, \n",
    "    #                    graph title (phenotype name), \n",
    "    #                    data description (e.g., Incidence / 100000),\n",
    "    #                    y axis maximum adjustment to make graph look better)\n",
    "\n",
    "    # get data\n",
    "    xdata = [float(i) for i in df[phenotype].dropna().index[0:-1]]\n",
    "    ydata = [float(i) for i in df[phenotype].dropna()[0:-1]]\n",
    "\n",
    "    p0 = [max(ydata), np.median(xdata),1,min(ydata)]\n",
    "    popt, pcov = curve_fit(sigmoid, xdata, ydata,p0, method='dogbox')\n",
    "\n",
    "    print(\"Min year:\", int(min(xdata)))\n",
    "    print(\"Max year:\", int(max(xdata)), \"\\n\")\n",
    "\n",
    "    print(\"Min Inc/Prev: %.3f\" % min(ydata))\n",
    "    print(\"Max Inc/Prev: %.3f\" % max(ydata), \"\\n\")\n",
    "\n",
    "    print(\"Equation: %.3f / (1 + e^(-%.3f*(x - %.3f))) + %.3f\" % (popt[0], popt[1], popt[2], popt[3]), \"\\n\")\n",
    "\n",
    "    print(\"H_min: %.3f\" % min(popt[3], (popt[0]+popt[3])))\n",
    "    print(\"H_max: %.3f\" % max(popt[3], (popt[0]+popt[3])))\n",
    "\n",
    "    print(\"H^2: %.3f\" % (min(popt[3]/(popt[0]+popt[3]),(popt[0]+popt[3])/popt[3])))\n",
    "    print()\n",
    "\n",
    "    x = np.linspace(min(xdata), max(xdata))\n",
    "    y = sigmoid(x, *popt)\n",
    "\n",
    "    ax = pylab.figure(figsize=(8,5)).gca()\n",
    "    ax.xaxis.set_major_locator(MaxNLocator(integer=True))\n",
    "\n",
    "    plt.title(header, fontdict = {'fontsize' : 20})\n",
    "    pylab.xlabel(\"Year\", fontdict = {'fontsize' : 20})\n",
    "    pylab.ylabel(header+\" \"+ylabel)\n",
    "    pylab.ylabel(ylabel, fontdict = {'fontsize' : 20})\n",
    "    plt.ylim(ymin=0, ymax=(max(ydata)+min(ydata)+adj))\n",
    "    pylab.plot(xdata, ydata, 'o')\n",
    "    pylab.plot(x, y)\n",
    "    pylab.show()\n",
    "\n",
    "    return popt\n",
    "\n",
    "ramp = lambda u: np.maximum( u, 0 )\n",
    "step = lambda u: ( u > 0 ).astype(float)\n",
    "\n",
    "def SegmentedLinearReg( X, Y, breakpoints ):\n",
    "    nIterationMax = 10\n",
    "\n",
    "    breakpoints = np.sort( np.array(breakpoints) )\n",
    "\n",
    "    dt = np.min( np.diff(X) )\n",
    "    ones = np.ones_like(X)\n",
    "\n",
    "    for i in range( nIterationMax ):\n",
    "        # Linear regression:  solve A*p = Y\n",
    "        Rk = [ramp( X - xk ) for xk in breakpoints ]\n",
    "        Sk = [step( X - xk ) for xk in breakpoints ]\n",
    "        A = np.array([ ones, X ] + Rk + Sk )\n",
    "        p =  lstsq(A.transpose(), Y, rcond=None)[0] \n",
    "\n",
    "        # Parameters identification:\n",
    "        a, b = p[0:2]\n",
    "        ck = p[ 2:2+len(breakpoints) ]\n",
    "        dk = p[ 2+len(breakpoints): ]\n",
    "\n",
    "        # Estimation of the next break-points:\n",
    "        newBreakpoints = breakpoints - dk/ck \n",
    "\n",
    "        # Stop condition\n",
    "        if np.max(np.abs(newBreakpoints - breakpoints)) < dt/5:\n",
    "            break\n",
    "\n",
    "        breakpoints = newBreakpoints\n",
    "    else:\n",
    "        print( 'maximum iteration reached' )\n",
    "\n",
    "    # Compute the final segmented fit:\n",
    "    Xsolution = np.insert( np.append( breakpoints, max(X) ), 0, min(X) )\n",
    "    ones =  np.ones_like(Xsolution) \n",
    "    Rk = [ c*ramp( Xsolution - x0 ) for x0, c in zip(breakpoints, ck) ]\n",
    "\n",
    "    Ysolution = a*ones + b*Xsolution + np.sum( Rk, axis=0 )\n",
    "\n",
    "    return Xsolution, Ysolution\n",
    "\n",
    "def fit_segmented(phenotype, header, ylabel, adj, initialBreakpoints):\n",
    "    # guide: fit_segmented(column name as found in dataframe, \n",
    "    #                      graph title (phenotype name), \n",
    "    #                      data description (e.g., Incidence / 100000),\n",
    "    #                      y axis maximum adjustment to make graph look better,\n",
    "    #                      list of years where the data seems to change)\n",
    "\n",
    "    # get data\n",
    "    xdata = [float(i) for i in df[phenotype].dropna().index[0:-1]]\n",
    "    ydata = [float(i) for i in df[phenotype].dropna()[0:-1]]\n",
    "\n",
    "    x_sol, y_sol = SegmentedLinearReg(xdata, ydata, initialBreakpoints)\n",
    "\n",
    "    print(\"Min year:\", int(min(xdata)))\n",
    "    print(\"Max year:\", int(max(xdata)), \"\\n\")\n",
    "\n",
    "    print(\"Min Inc/Prev: %.3f\" % min(ydata))\n",
    "    print(\"Max Inc/Prev: %.3f\" % max(ydata), \"\\n\")\n",
    "\n",
    "    print(\"H_min: %.3f\" % min(y_sol))\n",
    "    print(\"H_max: %.3f\" % max(y_sol))\n",
    "\n",
    "    print(\"H^2: %.3f\" % (min(y_sol)/max(y_sol)))\n",
    "    print()\n",
    "\n",
    "    plt.figure(figsize=(8,5)) \n",
    "    plt.plot(xdata, ydata, 'o')\n",
    "    plt.xlabel(\"Year\", fontdict = {'fontsize' : 20})\n",
    "    plt.ylabel(header+\" \"+ylabel)\n",
    "    plt.ylabel(ylabel, fontdict = {'fontsize' : 20})\n",
    "    plt.title(header, fontdict = {'fontsize' : 20})\n",
    "    plt.ylim(ymin=0, ymax=(max(ydata)+min(ydata)+adj))\n",
    "    plt.plot( *SegmentedLinearReg(xdata, ydata, initialBreakpoints ), '-' )\n",
    "\n",
    "    return SegmentedLinearReg(xdata, ydata, initialBreakpoints)\n",
    "\n",
    "def minmax_time(phenotype, header, ylabel, xlabel, adj):\n",
    "    xdata = [i for i in df[phenotype].dropna().index[0:-1]]\n",
    "    ydata = [float(i) for i in df[phenotype].dropna()[0:-1]]\n",
    "\n",
    "    fig, ax = plt.subplots(figsize=(8,5))    \n",
    "\n",
    "    plt.bar(xdata, ydata)\n",
    "\n",
    "    for i, v in enumerate(ydata):\n",
    "        ax.text(i - len(xdata)*(0.02), v + 0.02*max(ydata), str(round(v,2)), color='black')\n",
    "\n",
    "    plt.title(header, fontdict = {'fontsize' : 20})\n",
    "\n",
    "    plt.xlabel(xlabel, fontdict = {'fontsize' : 20})\n",
    "    plt.ylabel(header+\" \"+ylabel)\n",
    "    plt.ylabel(ylabel, fontdict = {'fontsize' : 20})\n",
    "\n",
    "    plt.ylim(ymin=0, ymax=(max(ydata)+min(ydata)+adj))\n",
    "\n",
    "    plt.show()\n",
    "\n",
    "def scatter(phenotype, header, ylabel, adj):\n",
    " \n",
    "    # get data\n",
    "    xdata = [float(i) for i in df[phenotype].dropna().index[0:-1]]\n",
    "    ydata = [float(i) for i in df[phenotype].dropna()[0:-1]]\n",
    "\n",
    "    print(\"Min year:\", int(min(xdata)))\n",
    "    print(\"Max year:\", int(max(xdata)), \"\\n\")\n",
    "\n",
    "    print(\"Min Inc/Prev: %.3f\" % min(ydata))\n",
    "    print(\"Max Inc/Prev: %.3f\" % max(ydata), \"\\n\")\n",
    "\n",
    "    ax = plt.figure(figsize=(8,5)).gca()\n",
    "    ax.xaxis.set_major_locator(MaxNLocator(integer=True))\n",
    "\n",
    "    plt.scatter(xdata, ydata, label='data')\n",
    "    plt.title(header, fontdict = {'fontsize' : 20})\n",
    "    plt.xlabel(\"Year\", fontdict = {'fontsize' : 20})\n",
    "    plt.ylabel(header+\" \"+ylabel)\n",
    "    plt.ylabel(ylabel, fontdict = {'fontsize' : 20})\n",
    "    plt.ylim(ymin=0, ymax=(max(ydata)+min(ydata)+adj))\n",
    "    plt.show()\n",
    "\n",
    "    "
   ]
  },
  {
   "cell_type": "markdown",
   "metadata": {
    "id": "jeuoVjXWN1CP"
   },
   "source": [
    "### Create dataframe with all the conditions"
   ]
  },
  {
   "cell_type": "code",
   "execution_count": null,
   "metadata": {
    "id": "wXtdanvuGedd"
   },
   "outputs": [],
   "source": [
    "df = pd.DataFrame(data=[])\n",
    "\n",
    "for filename in sorted(os.listdir(\".\")):\n",
    "  print(filename)\n",
    "  df_inc = pd.read_csv(filename, index_col=0)\n",
    "  df_inc = df_inc[~df_inc.index.duplicated()]\n",
    "  # print(df_inc.index.duplicated().any())\n",
    "  df = df.merge(df_inc, how='outer', left_index=True, right_index=True)\n",
    "\n",
    "df.columns"
   ]
  },
  {
   "cell_type": "markdown",
   "metadata": {
    "id": "yqsnLXyLN5Qa"
   },
   "source": [
    "### Calculate SHEST coefficient for different diseases, conditions and phenotypes\n",
    "\n",
    "To calculate a SHEST coefficient, simply call the relevant function. The possible functions to call are:\n",
    "*   fit_line()\n",
    "*   fit_sigmoid()\n",
    "*   fit_seqmented()\n",
    "*   scatter()\n",
    "*   minmax_time()\n",
    "\n",
    "For examples of how to call each function, see Example 1 to Example 5 below.\n"
   ]
  },
  {
   "cell_type": "markdown",
   "metadata": {
    "id": "l4sVVSDfOvMj"
   },
   "source": [
    "Example 1: Linear\n"
   ]
  },
  {
   "cell_type": "code",
   "execution_count": 20,
   "metadata": {
    "colab": {
     "base_uri": "https://localhost:8080/",
     "height": 600
    },
    "id": "dr0Nh5fYP1sm",
    "outputId": "4941d347-a544-4ddf-e934-d5b722f65b32"
   },
   "outputs": [
    {
     "name": "stdout",
     "output_type": "stream",
     "text": [
      "Min year: 1996\n",
      "Max year: 2016 \n",
      "\n",
      "Min Inc/Prev: 29.044\n",
      "Max Inc/Prev: 42.962 \n",
      "\n",
      "Equation: -0.006x + 46.593 \n",
      "\n",
      "H_min: 34.654\n",
      "H_max: 34.773\n",
      "H^2: 0.997\n",
      "\n"
     ]
    },
    {
     "data": {
      "image/png": "[encoded data removed]",
      "text/plain": [
       "<Figure size 576x360 with 1 Axes>"
      ]
     },
     "metadata": {
      "needs_background": "light",
      "tags": []
     },
     "output_type": "display_data"
    },
    {
     "data": {
      "text/plain": [
       "array([-5.92215644e-03,  4.65932890e+01])"
      ]
     },
     "execution_count": 20,
     "metadata": {
      "tags": []
     },
     "output_type": "execute_result"
    }
   ],
   "source": [
    "fit_line(\"cf\", \"Cystic Fibrosis\", \"Incidence / 100000\", 0)"
   ]
  },
  {
   "cell_type": "markdown",
   "metadata": {
    "id": "hLyIxGLdP3LX"
   },
   "source": [
    "Example 2: Sigmoid"
   ]
  },
  {
   "cell_type": "code",
   "execution_count": 19,
   "metadata": {
    "colab": {
     "base_uri": "https://localhost:8080/",
     "height": 600
    },
    "id": "efGg8u5xO8_k",
    "outputId": "1ead8e67-d55a-4a7d-91ff-70db71f7ffa3"
   },
   "outputs": [
    {
     "name": "stdout",
     "output_type": "stream",
     "text": [
      "Min year: 1895\n",
      "Max year: 1975 \n",
      "\n",
      "Min Inc/Prev: 2.174\n",
      "Max Inc/Prev: 12.350 \n",
      "\n",
      "Equation: 9.239 / (1 + e^(-1928.161*(x - 0.149))) + 2.485 \n",
      "\n",
      "H_min: 2.485\n",
      "H_max: 11.724\n",
      "H^2: 0.212\n",
      "\n"
     ]
    },
    {
     "data": {
      "image/png": "[encoded data removed]",
      "text/plain": [
       "<Figure size 576x360 with 1 Axes>"
      ]
     },
     "metadata": {
      "needs_background": "light",
      "tags": []
     },
     "output_type": "display_data"
    },
    {
     "data": {
      "text/plain": [
       "array([9.23878999e+00, 1.92816147e+03, 1.48977292e-01, 2.48480066e+00])"
      ]
     },
     "execution_count": 19,
     "metadata": {
      "tags": []
     },
     "output_type": "execute_result"
    }
   ],
   "source": [
    "fit_sigmoid(\"left_handedness_uk\", \"Left Handedness in the UK\", \"Rate (%)\", 0)"
   ]
  },
  {
   "cell_type": "markdown",
   "metadata": {
    "id": "nNu2Zb9BO9eT"
   },
   "source": [
    "Example 3: Segmented "
   ]
  },
  {
   "cell_type": "code",
   "execution_count": 21,
   "metadata": {
    "colab": {
     "base_uri": "https://localhost:8080/",
     "height": 582
    },
    "id": "BVCZrv34O-gt",
    "outputId": "d3436516-67cc-4fdb-d9a1-f202163c2cc3"
   },
   "outputs": [
    {
     "name": "stdout",
     "output_type": "stream",
     "text": [
      "Min year: 1966\n",
      "Max year: 2003 \n",
      "\n",
      "Min Inc/Prev: 0.144\n",
      "Max Inc/Prev: 1.470 \n",
      "\n",
      "H_min: 0.158\n",
      "H_max: 1.383\n",
      "H^2: 0.114\n",
      "\n"
     ]
    },
    {
     "data": {
      "text/plain": [
       "(array([1966.        , 1983.05057348, 2003.        ]),\n",
       " array([0.15816608, 1.38291758, 1.14331641]))"
      ]
     },
     "execution_count": 21,
     "metadata": {
      "tags": []
     },
     "output_type": "execute_result"
    },
    {
     "data": {
      "image/png": "[encoded data removed]",
      "text/plain": [
       "<Figure size 576x360 with 1 Axes>"
      ]
     },
     "metadata": {
      "needs_background": "light",
      "tags": []
     },
     "output_type": "display_data"
    }
   ],
   "source": [
    "fit_segmented(\"atopic_dermatitis_2\", \"Atopic Dermatitis\", \"Prevalence %\", 0, [1982])"
   ]
  },
  {
   "cell_type": "markdown",
   "metadata": {
    "id": "D5h_N3WGO_Ah"
   },
   "source": [
    "Example 4: Raw, Scatter "
   ]
  },
  {
   "cell_type": "code",
   "execution_count": 8,
   "metadata": {
    "colab": {
     "base_uri": "https://localhost:8080/",
     "height": 473
    },
    "id": "iViUuY79PBRg",
    "outputId": "79a3d664-42e6-41a5-f510-6f498de60659"
   },
   "outputs": [
    {
     "name": "stdout",
     "output_type": "stream",
     "text": [
      "Min year: 1910\n",
      "Max year: 2019 \n",
      "\n",
      "Min Inc/Prev: 0.000\n",
      "Max Inc/Prev: 57879.000 \n",
      "\n"
     ]
    },
    {
     "data": {
      "image/png": "[encoded data removed]",
      "text/plain": [
       "<Figure size 576x360 with 1 Axes>"
      ]
     },
     "metadata": {
      "needs_background": "light",
      "tags": []
     },
     "output_type": "display_data"
    }
   ],
   "source": [
    "scatter(\"polio_scatter\", \"Poliomyelitis\", \"Number of Cases\", 2000)"
   ]
  },
  {
   "cell_type": "markdown",
   "metadata": {
    "id": "dhFBn1HWPBuq"
   },
   "source": [
    "Example 5: Raw, min/max "
   ]
  },
  {
   "cell_type": "code",
   "execution_count": 17,
   "metadata": {
    "colab": {
     "base_uri": "https://localhost:8080/",
     "height": 364
    },
    "id": "km8JEbREPI7V",
    "outputId": "3b270647-8ced-4c68-8cd3-3d72a594b416"
   },
   "outputs": [
    {
     "data": {
      "image/png": "[encoded data removed]",
      "text/plain": [
       "<Figure size 576x360 with 1 Axes>"
      ]
     },
     "metadata": {
      "needs_background": "light",
      "tags": []
     },
     "output_type": "display_data"
    }
   ],
   "source": [
    "minmax_time(\"testicular_cancer_2.0\", \"Testicular Cancer\", \"Incidence / 100000\", \"Year\", 0)"
   ]
  }
 ],
 "metadata": {
  "colab": {
   "collapsed_sections": [],
   "name": "SHEST_calculator.ipynb",
   "provenance": []
  },
  "kernelspec": {
   "display_name": "Python 3",
   "language": "python",
   "name": "python3"
  },
  "language_info": {
   "codemirror_mode": {
    "name": "ipython",
    "version": 3
   },
   "file_extension": ".py",
   "mimetype": "text/x-python",
   "name": "python",
   "nbconvert_exporter": "python",
   "pygments_lexer": "ipython3",
   "version": "3.7.4"
  }
 },
 "nbformat": 4,
 "nbformat_minor": 1
}
